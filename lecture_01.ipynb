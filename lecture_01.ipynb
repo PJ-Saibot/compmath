{
 "cells": [
  {
   "cell_type": "markdown",
   "metadata": {},
   "source": [
    "\n",
    "## Интерполяция функций\n",
    "\n",
    "\n",
    "Пусть на отрезке $[a,b]$ задано упорядоченное множество точек \n",
    "$$\n",
    "    x_0<x_1<\\ldots<x_n\n",
    "$$  \n",
    "Пусть значения функции $f(x)$ известны только в этих точках:\n",
    "$$\n",
    "    y_i=f(x_i),\\quad i=0,\\ldots,n\n",
    "$$\n",
    "\n",
    "Необходимо найти приближенное значения функции $f(x)$ в точках \n",
    "$$\n",
    "    x\\neq x_{i}, \\quad i=0,1,\\ldots,n\n",
    "$$\n",
    "\n",
    "Если $x_0<x<x_n$, то это *задача интерполяции*, в противном случае - *задача экстраполяции*.\n",
    "\n",
    "Задача интерполяции состоит в поиске такой функции $F(x)$ из заданного класса функций, что\n",
    "$$ \n",
    "    F(x_{i})=y_{i},\\quad i=0,\\ldots ,n.\n",
    "$$\n",
    "\n",
    "* Точки $x_i$ называют **узлами интерполяции**, а их совокупность - **интерполяционной сеткой**.\n",
    "\n",
    "* Пары $(x_i,y_i)$ называют **точками данных** или **базовыми точками**.\n",
    "\n",
    "* Разность между «соседними» значениями $\\Delta x_{i}=x_{i}-x_{i-1}$  — **шагом интерполяционной сетки**. Он может быть как переменным, так и постоянным.\n",
    "\n",
    "* Функцию $F(x)$ — **интерполирующей функцией**.\n",
    "\n",
    "Геометрический смысл интерполяции - провести кривую $F(x)$ на плоскости через заданные точки $(x_i, y_i)$.\n",
    "\n",
    "\n",
    "### Полиномиальная интерполяция\n",
    "\n",
    "Чаще всего $F(x)$ выбирается из класса полиномов и тогда \n",
    "интерполяция называется *полиномиальной*.\n",
    "\n",
    "Полиномиальная интерполяция наиболее распространена, так как многочлены просты по форме, легко вычисляются, их легко дифференцировать и интегрировать.\n",
    "\n",
    "#### 1. Интерполяция полином Вандермонда\n",
    "В этом случае интерполирующую функцию $F(x)$ выбирают в виде полинома $P_n(x)$, $n$-й степени: \n",
    "$$\n",
    "P_{n}(x)=c_{0}x^n+c_{1}x^{n-1}+\\ldots+c_{n}\n",
    "$$\n",
    "\n",
    "В этой формуле $х$ это переменная, а $c_i$ - неизвестные, которые нужно найти из \n",
    "условий\n",
    "$$ \n",
    "    F(x_{i})=y_{i},\\quad i=0,\\ldots ,n.\n",
    "$$\n",
    "в нашем случае принимают вид\n",
    "$$\n",
    "c_{0}x_0^n+c_{1}x_0^{n-1}+\\ldots+c_{n} = y_0 \\\\\n",
    "c_{0}x_1^n+c_{1}x_1^{n-1}+\\ldots+c_{n} = y_1 \\\\\n",
    "\\dots \\\\\n",
    "c_{0}x_n^n+c_{1}x_n^{n-1}+\\ldots+c_{n} = y_n\n",
    "$$\n",
    "\n",
    "эта система $(n+1)$ линейных уравнений с $(n+1)$-ой неизвестной $c_i$\n",
    "\n",
    "$$\n",
    "A \\cdot \\vec{c} = \\vec{y}\n",
    "$$\n",
    "где\n",
    "$$\n",
    "A = \n",
    "\\begin{bmatrix}\n",
    "  1& x_{0}& ...& x_{0}^{n}\\\\\n",
    "  1& x_{1}& ...& x_{1}^{n}\\\\\n",
    "  .& ...&  ... & ...      \\\\\n",
    "  1& x_{n}& ...& x_{n}^{n}\n",
    "\\end{bmatrix}\n",
    "\\quad \\mbox{матрица Вандермонда}\n",
    "$$\n",
    "$$\n",
    "\\vec{c}=\n",
    "\\begin{bmatrix}\n",
    "  c_n\\\\\n",
    "  c_{n-1}\\\\\n",
    "  ...\\\\\n",
    "  c_0\n",
    "\\end{bmatrix}\n",
    "\\quad \\mbox{вектор неизвестных коэффициентов}\n",
    "$$\n",
    "$$\n",
    "\\vec{y}=\n",
    "\\begin{bmatrix}\n",
    "  y_0\\\\\n",
    "  y_1\\\\\n",
    "  ...\\\\\n",
    "  y_n\n",
    "\\end{bmatrix}\n",
    "\\quad \\mbox{вектор правой части}\n",
    "$$\n",
    "\n",
    "Можно доказать, что определитель этой системы (определитель Вандермонда) не равен нулю:\n",
    "$$\n",
    "\\begin{vmatrix}\n",
    "  1& x_{0}& ...& x_{0}^{n}\\\\\n",
    "  1& x_{1}& ...& x_{1}^{n}\\\\\n",
    "  .& ...&  ... & ...      \\\\\n",
    "  1& x_{n}& ...& x_{n}^{n}\n",
    "\\end{vmatrix} \\ne 0\n",
    "$$\n",
    "\n",
    "Значит, задача интерполяции полиномами Вандермонда имеет единственное решение\n",
    "\n",
    "$$\n",
    "\\vec{c} = A^{-1}\\vec{y}\n",
    "$$\n",
    "\n",
    "##### ПРИМЕР\n",
    "Построить интерполяцию Вандермонда для функции $f(x)=\\sin(x)$ на отрезке $[0, 2\\pi]$. Проанализировать решение с ростом степени полинома $n$.\n",
    "\n",
    "**Решение**\n",
    "Зададим степень интерполяционного полинома"
   ]
  },
  {
   "cell_type": "code",
   "execution_count": 23,
   "metadata": {
    "collapsed": true
   },
   "outputs": [],
   "source": [
    "n = 3"
   ]
  },
  {
   "cell_type": "markdown",
   "metadata": {},
   "source": [
    "Построим равномерную интерполяционную сетку из $n+1$ узлов $x_i$ на заданном отрезке $[0, 2\\pi]$"
   ]
  },
  {
   "cell_type": "code",
   "execution_count": 24,
   "metadata": {},
   "outputs": [
    {
     "name": "stdout",
     "output_type": "stream",
     "text": [
      "[ 0.          2.0943951   4.1887902   6.28318531]\n"
     ]
    }
   ],
   "source": [
    "# импортируем модуль НумПай :) - набор питон функций для матричных вычислений\n",
    "import numpy as np\n",
    "\n",
    "a = 0\n",
    "b = 2 * np.pi\n",
    "\n",
    "x = np.linspace(a, b, n + 1)\n",
    "print(x)"
   ]
  },
  {
   "cell_type": "markdown",
   "metadata": {},
   "source": [
    "Вычислим $y_i$ - значения функции $f(x)=\\sin(x)$ в узлах $x_i$"
   ]
  },
  {
   "cell_type": "code",
   "execution_count": 25,
   "metadata": {},
   "outputs": [
    {
     "name": "stdout",
     "output_type": "stream",
     "text": [
      "[  0.00000000e+00   8.66025404e-01  -8.66025404e-01  -2.44929360e-16]\n"
     ]
    }
   ],
   "source": [
    "y = np.sin(x)\n",
    "\n",
    "print(y)"
   ]
  },
  {
   "cell_type": "markdown",
   "metadata": {},
   "source": [
    "Составим матрицу Вандермонда"
   ]
  },
  {
   "cell_type": "code",
   "execution_count": 29,
   "metadata": {},
   "outputs": [
    {
     "name": "stdout",
     "output_type": "stream",
     "text": [
      "[ 1.  1.  1.  1.]\n"
     ]
    }
   ],
   "source": [
    "# заполняем матрицу нулями\n",
    "A = np.zeros((n + 1, n + 1))\n",
    "\n",
    "# i меняется от 0 до n включительно первый цикл по строке\n",
    "for i in range(n + 1):\n",
    "    # j меняется от 0 до n включительно внутр. цикл по столбцу\n",
    "    for j in range(n + 1):\n",
    "        A[i, j] = x[i] ** j\n",
    "        \n",
    "# выводим нулевой столбец\n",
    "print(A[:, 0])"
   ]
  },
  {
   "cell_type": "markdown",
   "metadata": {},
   "source": [
    "Найдем обратную матрицу к матрице $A$"
   ]
  },
  {
   "cell_type": "code",
   "execution_count": 30,
   "metadata": {},
   "outputs": [
    {
     "name": "stdout",
     "output_type": "stream",
     "text": [
      "[[  1.00000000e+00   0.00000000e+00   0.00000000e+00   0.00000000e+00]\n",
      " [ -2.49800181e-16   1.00000000e+00   3.88578059e-16   1.38777878e-16]\n",
      " [ -6.66133815e-16   1.33226763e-15   1.00000000e+00   2.22044605e-16]\n",
      " [  0.00000000e+00   0.00000000e+00   0.00000000e+00   1.00000000e+00]]\n"
     ]
    }
   ],
   "source": [
    "import numpy.linalg as linalg\n",
    "\n",
    "B = linalg.inv(A)\n",
    "\n",
    "# перемножаем А с обратной к ней В док-м един. матрицу\n",
    "print(A.dot(B))"
   ]
  },
  {
   "cell_type": "markdown",
   "metadata": {},
   "source": [
    "Найдем решение $c_i$ системы Вандермонда"
   ]
  },
  {
   "cell_type": "code",
   "execution_count": 6,
   "metadata": {},
   "outputs": [
    {
     "data": {
      "text/plain": [
       "array([ 0.09426594, -0.88843553,  1.86073502,  0.        ])"
      ]
     },
     "execution_count": 6,
     "metadata": {},
     "output_type": "execute_result"
    }
   ],
   "source": [
    "# матрицу обратную перемножаем с столбцом у\n",
    "c = B.dot(y)\n",
    "\n",
    "# выводим с справо налево\n",
    "c = c[::-1]\n",
    "c"
   ]
  },
  {
   "cell_type": "markdown",
   "metadata": {},
   "source": [
    "Зададим интерполирующий полином"
   ]
  },
  {
   "cell_type": "code",
   "execution_count": 7,
   "metadata": {},
   "outputs": [
    {
     "name": "stdout",
     "output_type": "stream",
     "text": [
      "[ 0.         0.8660254 -0.8660254  0.       ]\n"
     ]
    }
   ],
   "source": [
    "# n+1  узлов xi на заданном отрезке [0,2π]\n",
    "\n",
    "def P(x):\n",
    "    y = 0\n",
    "    \n",
    "    # i меняется от 0 до n включительно\n",
    "    for i in range(n + 1):\n",
    "        y += c[i] * (x ** (n - i))\n",
    "        \n",
    "    return y\n",
    "\n",
    "# вычисляем значения полинома в узлах сетки, должны получить значения исходной функции в узлах\n",
    "print(P(x))"
   ]
  },
  {
   "cell_type": "markdown",
   "metadata": {},
   "source": [
    "Построим сетку и полученное решение"
   ]
  },
  {
   "cell_type": "code",
   "execution_count": 8,
   "metadata": {},
   "outputs": [
    {
     "data": {
      "image/png": "[encoded data removed]",
      "text/plain": [
       "<matplotlib.figure.Figure at 0x75e6160>"
      ]
     },
     "metadata": {},
     "output_type": "display_data"
    }
   ],
   "source": [
    "%matplotlib inline\n",
    "from matplotlib import pyplot as plt\n",
    "\n",
    "# 100 узлов сетки для построения гладкой кривой\n",
    "xnew = np.linspace(a, b, 100)\n",
    "\n",
    "# значения инт. полинома в узлах xnew\n",
    "ynew = P(xnew)\n",
    "\n",
    "# значения исх. функции в узлах xnew\n",
    "yfun = np.sin(xnew)\n",
    "\n",
    "\n",
    "plt.plot(xnew, ynew, '-k', xnew, yfun, '-r', x, y, 'o')\n",
    "\n",
    "plt.grid(True)\n",
    "plt.show()"
   ]
  },
  {
   "cell_type": "markdown",
   "metadata": {},
   "source": [
    "#### Анализ погрешностей.\n",
    "\n",
    "Вычислим разность между исх. функцией и инт. полиномом в узлах xnew. Эта разность называется абсолютной погрешностью.\n",
    "$$\n",
    "    d_i = y_i - P(x_i)\n",
    "$$"
   ]
  },
  {
   "cell_type": "code",
   "execution_count": 9,
   "metadata": {
    "collapsed": true
   },
   "outputs": [],
   "source": [
    "d = yfun - ynew"
   ]
  },
  {
   "cell_type": "markdown",
   "metadata": {},
   "source": [
    "Построим график абс. погрешности."
   ]
  },
  {
   "cell_type": "code",
   "execution_count": 10,
   "metadata": {},
   "outputs": [
    {
     "data": {
      "image/png": "[encoded data removed]",
      "text/plain": [
       "<matplotlib.figure.Figure at 0x5a1b518>"
      ]
     },
     "metadata": {},
     "output_type": "display_data"
    }
   ],
   "source": [
    "plt.plot(xnew, d, '-b')\n",
    "\n",
    "plt.grid(True)\n",
    "plt.show()"
   ]
  },
  {
   "cell_type": "markdown",
   "metadata": {},
   "source": [
    "Вычислим **среднеквадратическую ошибку** интерполяции\n",
    "$$\n",
    "    MSE = \\sqrt{\\frac{1}{N}\\sum_{i=1}^N (y_i - P(x_i))^2}\n",
    "$$"
   ]
  },
  {
   "cell_type": "code",
   "execution_count": 11,
   "metadata": {},
   "outputs": [
    {
     "name": "stdout",
     "output_type": "stream",
     "text": [
      "0.13965860756\n"
     ]
    }
   ],
   "source": [
    "MSE = np.sqrt(((yfun - ynew)**2).mean())\n",
    "# ошибка \n",
    "print(MSE) "
   ]
  },
  {
   "cell_type": "markdown",
   "metadata": {},
   "source": [
    "#### 2. Интерполяция полиномом Лагранжа\n",
    "\n",
    "В этом случае интерполирующую функцию  $F(x)$ выбирают в виде полинома $P_n(x)$, $n$-й степени:\n",
    "\n",
    "$$\n",
    "P_n(x) = \n",
    "y_0\\frac{(x-x_1)(x-x_2)\\ldots(x-x_n)}{(x_0-x_1)(x_0-x_2)\\ldots(x_0-x_n)} + \n",
    "y_1\\frac{(x-x_0)(x-x_2)\\ldots(x-x_n)}{(x_1-x_0)(x_1-x_2)\\ldots(x_1-x_n)} + \\ldots +\n",
    "y_n\\frac{(x-x_0)(x-x_1)\\ldots(x-x_{n-1})}{(x_n-x_0)(x_n-x_1)\\ldots(x_n-x_{n-1})}\n",
    "$$\n",
    "\n",
    "* $P_n(x)$ - полином n-ой степени.\n",
    "* $P_n(x_i)=y_i$ - полином проходит через базовые точки.\n",
    "\n",
    "##### ПРИМЕР\n",
    "Построить интерполяцию Лагранжа для функции $f(x)=e^{-x^2}$ на отрезке $[-3, 3]$. Проанализировать решение с ростом степени полинома $n$.\n",
    "\n",
    "**Решение**\n",
    "Зададим степень интерполяционного полинома и границы интерполяционного отрезка $[a,b]$\n"
   ]
  },
  {
   "cell_type": "code",
   "execution_count": 12,
   "metadata": {
    "collapsed": true
   },
   "outputs": [],
   "source": [
    "n = 10\n",
    "a = -3\n",
    "b = 3"
   ]
  },
  {
   "cell_type": "markdown",
   "metadata": {},
   "source": [
    "Построим равномерную интерполяционную сетку из $n+1$ узлов $x_i$ на заданном отрезке $[-3, 3]$"
   ]
  },
  {
   "cell_type": "code",
   "execution_count": 13,
   "metadata": {},
   "outputs": [
    {
     "data": {
      "text/plain": [
       "array([-3. , -2.4, -1.8, -1.2, -0.6,  0. ,  0.6,  1.2,  1.8,  2.4,  3. ])"
      ]
     },
     "execution_count": 13,
     "metadata": {},
     "output_type": "execute_result"
    }
   ],
   "source": [
    "x = np.linspace(a, b, n + 1)\n",
    "x"
   ]
  },
  {
   "cell_type": "markdown",
   "metadata": {},
   "source": [
    "Вычислим $y_i$ - значения функции $f(x)=e^{-x^2}$ в узлах $x_i$"
   ]
  },
  {
   "cell_type": "code",
   "execution_count": 14,
   "metadata": {},
   "outputs": [
    {
     "data": {
      "text/plain": [
       "array([  1.23409804e-04,   3.15111160e-03,   3.91638951e-02,\n",
       "         2.36927759e-01,   6.97676326e-01,   1.00000000e+00,\n",
       "         6.97676326e-01,   2.36927759e-01,   3.91638951e-02,\n",
       "         3.15111160e-03,   1.23409804e-04])"
      ]
     },
     "execution_count": 14,
     "metadata": {},
     "output_type": "execute_result"
    }
   ],
   "source": [
    "def f(x):\n",
    "    return np.exp(-x**2)\n",
    "\n",
    "y = f(x)\n",
    "y"
   ]
  },
  {
   "cell_type": "markdown",
   "metadata": {},
   "source": [
    "Определим функцию, вычисляющую отношение \"скобок\" в точке $x=t$"
   ]
  },
  {
   "cell_type": "code",
   "execution_count": 15,
   "metadata": {
    "collapsed": true
   },
   "outputs": [],
   "source": [
    "# i - номер слагаемого\n",
    "def R(t, i):\n",
    "    p1 = 1\n",
    "    p2 = 1\n",
    "    \n",
    "    for j in range(n + 1):\n",
    "        if j != i:\n",
    "            p1 = p1 * (t - x[j])\n",
    "            p2 = p2 * (x[i] - x[j])\n",
    "    \n",
    "    return p1 / p2"
   ]
  },
  {
   "cell_type": "markdown",
   "metadata": {},
   "source": [
    "Определим функцию, вычисляющую полином Лагранжа в точке $x=t$"
   ]
  },
  {
   "cell_type": "code",
   "execution_count": 16,
   "metadata": {
    "collapsed": true
   },
   "outputs": [],
   "source": [
    "def L(t):\n",
    "    z = 0   \n",
    "    \n",
    "    for i in range(n + 1):\n",
    "        z = z + y[i] * R(t, i)\n",
    "        \n",
    "    return z"
   ]
  },
  {
   "cell_type": "markdown",
   "metadata": {},
   "source": [
    "Построим сетку и полученное решение"
   ]
  },
  {
   "cell_type": "code",
   "execution_count": 17,
   "metadata": {},
   "outputs": [
    {
     "data": {
      "image/png": "[encoded data removed]",
      "text/plain": [
       "<matplotlib.figure.Figure at 0x47f09b0>"
      ]
     },
     "metadata": {},
     "output_type": "display_data"
    }
   ],
   "source": [
    "xnew = np.linspace(a, b, 100)\n",
    "ynew = L(xnew)\n",
    "yfun = f(xnew)\n",
    "\n",
    "plt.plot(xnew, ynew, '-b', xnew, yfun, '-r', x, y, 'ok')\n",
    "plt.grid(True)\n",
    "plt.show()"
   ]
  },
  {
   "cell_type": "markdown",
   "metadata": {},
   "source": [
    "#### Анализ погрешностей.\n",
    "\n",
    "Вычислим разность между исх. функцией и инт. полиномом в узлах xnew. Эта разность называется абсолютной погрешностью.\n",
    "$$\n",
    "    d_i = y_i - L(x_i)\n",
    "$$"
   ]
  },
  {
   "cell_type": "code",
   "execution_count": 18,
   "metadata": {
    "collapsed": true
   },
   "outputs": [],
   "source": [
    "d = yfun - ynew"
   ]
  },
  {
   "cell_type": "markdown",
   "metadata": {},
   "source": [
    "Построим график абс. погрешности."
   ]
  },
  {
   "cell_type": "code",
   "execution_count": 19,
   "metadata": {},
   "outputs": [
    {
     "data": {
      "image/png": "[encoded data removed]",
      "text/plain": [
       "<matplotlib.figure.Figure at 0x9093d30>"
      ]
     },
     "metadata": {},
     "output_type": "display_data"
    }
   ],
   "source": [
    "plt.plot(xnew, d, '-b')\n",
    "\n",
    "plt.grid(True)\n",
    "plt.show()"
   ]
  },
  {
   "cell_type": "markdown",
   "metadata": {},
   "source": [
    "Вычислим **среднеквадратическую ошибку** интерполяции\n",
    "$$\n",
    "    MSE = \\sqrt{\\frac{1}{N}\\sum_{i=1}^N (y_i - L(x_i))^2}\n",
    "$$"
   ]
  },
  {
   "cell_type": "code",
   "execution_count": 20,
   "metadata": {},
   "outputs": [
    {
     "name": "stdout",
     "output_type": "stream",
     "text": [
      "0.0635911338813\n"
     ]
    }
   ],
   "source": [
    "MSE = np.sqrt(((yfun - ynew)**2).mean())\n",
    "# ошибка в процентах\n",
    "print(MSE) "
   ]
  },
  {
   "cell_type": "code",
   "execution_count": null,
   "metadata": {
    "collapsed": true
   },
   "outputs": [],
   "source": []
  }
 ],
 "metadata": {
  "kernelspec": {
   "display_name": "Python 3",
   "language": "python",
   "name": "python3"
  },
  "language_info": {
   "codemirror_mode": {
    "name": "ipython",
    "version": 3
   },
   "file_extension": ".py",
   "mimetype": "text/x-python",
   "name": "python",
   "nbconvert_exporter": "python",
   "pygments_lexer": "ipython3",
   "version": "3.5.2"
  }
 },
 "nbformat": 4,
 "nbformat_minor": 2
}
