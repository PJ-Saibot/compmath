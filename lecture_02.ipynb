{
 "cells": [
  {
   "cell_type": "markdown",
   "metadata": {},
   "source": [
    "## Линейная регрессия методом наименьших квадратов (НМК)\n",
    "\n",
    "Пусть на плоскости задано облако точек\n",
    "\n",
    "$$\n",
    "    M_i = (x_i, y_i),\\quad i=1,\\ldots,n\n",
    "$$\n",
    "\n",
    "Требуется приблизить эти точки прямой\n",
    "\n",
    "$$\n",
    "    y= \\alpha x +\\beta\n",
    "$$\n",
    "\n",
    "так, чтобы сумма \"расстояний\" от данных точек до прямой было минимально.\n",
    "\n",
    "\n",
    "Для этого найдем \"расстояние\" от каждой точки $M_i$ до прямой:\n",
    "\n",
    "$$\n",
    "     r_{i}=y_{i}-y(x_{i})=y_{i}-(\\alpha x_i+\\beta)\n",
    "$$\n",
    "\n",
    "Вычислим сумму квадратов $r_i$:\n",
    "\n",
    "$$\n",
    "    \\rho(\\alpha, \\beta)=\\sum_{i=1}^n{r_i^2}=\\sum_{i=1}^n{(y_i-(\\alpha x_i+\\beta))^2}\n",
    "$$\n",
    "\n",
    "Задача сводится к нахождению коэффицентов линейной зависимости $\\alpha$ и $\\beta$, при которых функция $\\rho(\\alpha, \\beta)$ принимает наименьшее значение.\n",
    "\n",
    "При данных переменных сумма квадратов отклонений экспериментальных данных от найденной прямой будет наименьшей.\n",
    "\n",
    "Для того, чтобы найти минимум функции $\\rho(\\alpha, \\beta)$, необходимо приравнять нулю частные производные функции $\\rho(\\alpha, \\beta)$ по $\\alpha$ и $\\beta$\n",
    "$$\n",
    "\\frac{\\partial \\rho}{\\partial \\alpha}=0\n",
    "$$\n",
    "$$\n",
    "\\frac{\\partial \\rho}{\\partial \\beta}=0\n",
    "$$\n",
    "Находим эти частные поизводные:\n",
    "$$\n",
    "\\frac{\\partial \\rho}{\\partial \\alpha}=\\sum_{i=1}^n{2(-x_i)(y_i-(\\alpha x_i+\\beta))}=0\n",
    "$$\n",
    "$$\n",
    "\\frac{\\partial \\rho}{\\partial \\beta}=\\sum_{i=1}^n{2(-1)(y_i-(\\alpha x_i+\\beta))}=0\n",
    "$$\n",
    "\n",
    "После алгебраических преобразований получим:\n",
    "\n",
    "$$\n",
    "\\alpha\\sum_{i=1}^n x_i^2 + \\beta\\sum_{i=1}^n x_i=\\sum_{i=1}^n x_i y_i\n",
    "$$\n",
    "$$\n",
    "\\alpha\\sum_{i=1}^n x_i+ \\beta n=\\sum_{i=1}^n y_i\n",
    "$$\n",
    "\n",
    "Эта система двух линейных уравнений, которую можно записать в матричном виде:\n",
    "$$\n",
    "\\begin{pmatrix}\n",
    "  a_1 & a_2\\\\\n",
    "  a_3 & a_4\n",
    "\\end{pmatrix} \\cdot\n",
    "\\begin{pmatrix}\n",
    "  \\alpha \\\\\n",
    "  \\beta\n",
    "\\end{pmatrix}=\n",
    "\\begin{pmatrix}\n",
    "  b_1 \\\\\n",
    "  b_2\n",
    "\\end{pmatrix}\n",
    "$$\n",
    "\n",
    "где\n",
    "\n",
    "$$\n",
    "    a_1=\\sum_{i=1}^nx_i^2,\\quad a_2=\\sum_{i=1}^nx_i\n",
    "$$\n",
    "\n",
    "$$\n",
    "    a_3=a_2=\\sum_{i=1}^nx_i,\\quad a_4=n\n",
    "$$\n",
    "\n",
    "$$\n",
    "    b_1 = \\sum_{i=1}^n x_iy_i,\\quad b_2=\\sum_{i=1}^ny_i\n",
    "$$\n",
    "\n",
    "Решение этой системы, дает решение искомой задачи.\n",
    "\n",
    "##### ПРИМЕР\n",
    "Зададим облако точек и построим линейную регрессию методом НМК\n",
    "\n",
    "**Решение**\n",
    "Напишем функцию для генерации облака точек"
   ]
  },
  {
   "cell_type": "code",
   "execution_count": 1,
   "metadata": {},
   "outputs": [
    {
     "data": {
      "image/png": "[encoded data removed]",
      "text/plain": [
       "<matplotlib.figure.Figure at 0x7f41c6d1de10>"
      ]
     },
     "metadata": {},
     "output_type": "display_data"
    }
   ],
   "source": [
    "import numpy as np\n",
    "%matplotlib inline\n",
    "from matplotlib import pyplot as plt\n",
    "\n",
    "# x,y - облако точек\n",
    "# N - число точек \n",
    "# m - центр облака точек на оси x\n",
    "# sx - c.к.о. x_i\n",
    "# sy - c.к.о. y_i\n",
    "def get_points(N, m, sx, sy):\n",
    "    x = np.random.normal(m, sx, size=N)\n",
    "    y = (2 * x + 3) + np.random.normal(0, sy, size=N)\n",
    "    return x, y\n",
    "\n",
    "# x,y из таблицы\n",
    "def get_table_points():\n",
    "    x = np.array([1, 2, 3, 4, 5, 6]) \n",
    "    y = np.array([4.2, 7.3, 6.1, 9.5, 10.2, 9])\n",
    "    \n",
    "    return x, y\n",
    "    \n",
    "X, Y = get_points(100, 0, 1, 1)\n",
    "#X, Y = get_table_points() \n",
    "\n",
    "\n",
    "plt.plot(X, Y, '.b')\n",
    "plt.grid(True)\n",
    "plt.show()"
   ]
  },
  {
   "cell_type": "markdown",
   "metadata": {},
   "source": [
    "Вычислим все коеффициенты и правую часть линейной системы МНК"
   ]
  },
  {
   "cell_type": "code",
   "execution_count": 2,
   "metadata": {},
   "outputs": [
    {
     "name": "stdout",
     "output_type": "stream",
     "text": [
      "a1= 110.847374467 a2= -2.87572253641 a3= -2.87572253641 a4= 100 b1= 332.261101412 b2= 281.801407262\n"
     ]
    }
   ],
   "source": [
    "def get_coeff(x, y):\n",
    "    n = len(x)\n",
    "    \n",
    "    a1 = 0\n",
    "    a2 = 0\n",
    "    b1 = 0\n",
    "    b2 = 0\n",
    "    \n",
    "    for i in range(n):\n",
    "        a1 += x[i] **2\n",
    "        a2 += x[i]\n",
    "        b1 += x[i] * y[i]\n",
    "        b2 += y[i]\n",
    "        \n",
    "    a3 = a2\n",
    "    a4 = n\n",
    "        \n",
    "    return a1, a2, a3, a4, b1, b2\n",
    "\n",
    "a1, a2, a3, a4, b1, b2 = get_coeff(X, Y)\n",
    "print('a1=', a1, 'a2=', a2, 'a3=', a3, 'a4=', a4, 'b1=', b1, 'b2=', b2)"
   ]
  },
  {
   "cell_type": "markdown",
   "metadata": {},
   "source": [
    "Найдем решение системы МНК"
   ]
  },
  {
   "cell_type": "code",
   "execution_count": 3,
   "metadata": {},
   "outputs": [
    {
     "name": "stdout",
     "output_type": "stream",
     "text": [
      "A =  [[ 110.84737447   -2.87572254]\n",
      " [  -2.87572254  100.        ]]\n",
      "B =  [[ 332.26110141]\n",
      " [ 281.80140726]]\n",
      "V =  [[ 3.07286527]\n",
      " [ 2.90638115]]\n"
     ]
    }
   ],
   "source": [
    "A = np.array([[a1, a2], [a3, a4]]) # матрица системы\n",
    "B = np.array([[b1], [b2]]) # столбец правой части системы\n",
    "\n",
    "print('A = ', A)\n",
    "print('B = ', B)\n",
    "\n",
    "V = np.linalg.inv(A).dot(B)# V = A^-1 * B\n",
    "\n",
    "alpha = V[0]\n",
    "beta = V[1]\n",
    "\n",
    "print('V = ', V) # alpha beta - решение"
   ]
  },
  {
   "cell_type": "markdown",
   "metadata": {},
   "source": [
    "Построим нашу прямую и облако точек"
   ]
  },
  {
   "cell_type": "code",
   "execution_count": 4,
   "metadata": {},
   "outputs": [
    {
     "data": {
      "image/png": "[encoded data removed]",
      "text/plain": [
       "<matplotlib.figure.Figure at 0x7f41c6aaf908>"
      ]
     },
     "metadata": {},
     "output_type": "display_data"
    }
   ],
   "source": [
    "xnew = np.linspace(-3, 3, 100)\n",
    "#xnew = np.linspace(0, 7, 100)\n",
    "\n",
    "ynew = alpha * xnew + beta\n",
    "\n",
    "plt.plot(X, Y, '.b', xnew, ynew, '-r')\n",
    "plt.grid(True)\n",
    "plt.show()"
   ]
  },
  {
   "cell_type": "code",
   "execution_count": null,
   "metadata": {},
   "outputs": [],
   "source": []
  }
 ],
 "metadata": {
  "kernelspec": {
   "display_name": "Python 3",
   "language": "python",
   "name": "python3"
  },
  "language_info": {
   "codemirror_mode": {
    "name": "ipython",
    "version": 3
   },
   "file_extension": ".py",
   "mimetype": "text/x-python",
   "name": "python",
   "nbconvert_exporter": "python",
   "pygments_lexer": "ipython3",
   "version": "3.5.2"
  }
 },
 "nbformat": 4,
 "nbformat_minor": 2
}
